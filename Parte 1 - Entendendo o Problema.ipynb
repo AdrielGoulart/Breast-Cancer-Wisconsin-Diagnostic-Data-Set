{
 "cells": [
  {
   "cell_type": "markdown",
   "metadata": {},
   "source": [
    "## Parte 1 - Entendimento do problema\n",
    "Nesta primeira parte deve-se entender o problema, realizando uma leitura detalhada da proposta do problema escolhido. Por se tratar de um problema de mineração de dados, onde vocês irão explorar o dataset em busca de padrões, talvez nem toda a informação que você precise para encontrar bons padrões esteja presente nos dados. Assim, observando os arquivos de dados pense em quais outras fontes podem ser utilizadas para enriquecer esse dataset. Nesta parte você deverá entregar um Notebook Jupyter ou um relatório em PDF contendo: a descrição de cada variável e objetivo da mineração de dados.\n"
   ]
  },
  {
   "cell_type": "markdown",
   "metadata": {},
   "source": [
    "## Parte 1 - Entendimento do problema"
   ]
  },
  {
   "cell_type": "markdown",
   "metadata": {},
   "source": [
    "<h3> Atributos do Problema"
   ]
  },
  {
   "cell_type": "markdown",
   "metadata": {},
   "source": [
    "<ul>\n",
    "<li><u>id</u>: ID de identificação de cada linha da tabela.</li><br>\n",
    "    \n",
    "<li><u>diagnosis</u>: Indicador da severidade do câncer de mama (M = maligno, B = benigno).</li><br>\n",
    "    \n",
    "<li><u>radius_mean</u>: Média das distâncias do centro aos pontos no perímetro.</li><br>\n",
    "    \n",
    "<li><u>texture_mean</u>: Desvio padrão dos valores da escala de cinza.</li><br>\n",
    "    \n",
    "<li><u>perimeter_mean</u>: Tamanho médio do tumor central.</li><br>\n",
    "    \n",
    "<li><u>area_mean</u></li><br>\n",
    "    \n",
    "<li><u>smoothness_mean</u>: Média da variação local nos comprimentos do raio.</li><br>\n",
    "    \n",
    "<li><u>compactness_mean</u>: Valor do perímetro ^ 2 / área - 1,0.</li><br>\n",
    "    \n",
    "<li><u>concavity_mean</u>: Média de gravidade das porções côncavas do contorno.</li><br>\n",
    "    \n",
    "<li><u>concave points_mean</u>: Média para o número de porções côncavas do contorno.</li><br>\n",
    "    \n",
    "<li><u>symmetry_mean</u>: </li><br>\n",
    "    \n",
    "<li><u>fractal_dimension_mean</u>: Média para \"coastline approximation\" - 1.</li><br>\n",
    "    \n",
    "<li><u>radius_se</u>: Erro padrão para a média das distâncias do centro aos pontos no perímetro.</li><br>\n",
    "    \n",
    "<li><u>texture_se</u>: Erro padrão para desvio padrão dos valores da escala de cinza.</li><br>\n",
    "    \n",
    "<li><u>perimeter_se</u>: </li><br>\n",
    "    \n",
    "<li><u>area_se</u>: </li><br>\n",
    "    \n",
    "<li><u>smoothness_se</u>: Erro padrão para variação local em comprimentos de raio</li><br>\n",
    "    \n",
    "<li><u>compactness_se</u>: Erro padrão para o perímetro ^ 2 / área - 1,0.</li><br>\n",
    "    \n",
    "<li><u>concavity_se</u>: Erro padrão para a severidade das porções côncavas do contorno.</li><br>\n",
    "    \n",
    "<li><u>concave points_se</u>: Erro padrão para o número de partes côncavas do contorno.</li><br>\n",
    "    \n",
    "<li><u>symmetry_se</u>:</li><br>\n",
    "    \n",
    "<li><u>fractal_dimension_se</u>: Erro padrão para \"coastline approximation\" - 1.</li><br>\n",
    "    \n",
    "<li><u>radius_worst</u>: \"Pior\" ou Maior valor médio da média das distâncias do centro até os pontos no perímetro.</li><br>\n",
    "    \n",
    "<li><u>texture_worst</u>: \"pior\" ou maior valor médio para desvio padrão dos valores na escala de cinza.</li><br>\n",
    "    \n",
    "<li><u>perimeter_worst</u>:</li><br>\n",
    "    \n",
    "<li><u>area_worst</u>:</li><br>\n",
    "    \n",
    "<li><u>smoothness_worst</u>: \"pior\" ou maior valor médio para variação local em comprimentos de raio.</li><br>\n",
    "    \n",
    "<li><u>compactness_worst</u>: \"pior\" ou maior valor médio para o perímetro ^ 2 / área - 1,0.</li><br>\n",
    "    \n",
    "<li><u>concavity_worst</u>: \"pior\" ou maior valor médio da severidade das partes côncavas do contorno.</li><br>\n",
    "    \n",
    "<li><u>concave points_worst</u>: \"pior\" ou maior valor médio para o número de partes côncavas do contorno.</li><br>\n",
    "    \n",
    "<li><u>symmetry_worst</u>: </li><br>\n",
    "    \n",
    "<li><u>fractal_dimension_worst</u>: \"pior\" ou maior valor médio para \"coastline approximation\" - 1.</li><br>"
   ]
  },
  {
   "cell_type": "markdown",
   "metadata": {},
   "source": [
    "<h3>Objetivo da Mineração"
   ]
  },
  {
   "cell_type": "markdown",
   "metadata": {},
   "source": [
    "#### O obejtivo seria prever a severidade do câncer se ele é benigno ou maligno a  partir dos demais dados, ou seja o nosso atributo classe será o diagnosis."
   ]
  },
  {
   "cell_type": "markdown",
   "metadata": {},
   "source": [
    "<h1>Dataset escolhido para a predição"
   ]
  },
  {
   "cell_type": "markdown",
   "metadata": {},
   "source": [
    "https://www.kaggle.com/uciml/breast-cancer-wisconsin-data"
   ]
  },
  {
   "cell_type": "code",
   "execution_count": null,
   "metadata": {},
   "outputs": [],
   "source": []
  }
 ],
 "metadata": {
  "kernelspec": {
   "display_name": "Python 3",
   "language": "python",
   "name": "python3"
  },
  "language_info": {
   "codemirror_mode": {
    "name": "ipython",
    "version": 3
   },
   "file_extension": ".py",
   "mimetype": "text/x-python",
   "name": "python",
   "nbconvert_exporter": "python",
   "pygments_lexer": "ipython3",
   "version": "3.7.3"
  }
 },
 "nbformat": 4,
 "nbformat_minor": 2
}
